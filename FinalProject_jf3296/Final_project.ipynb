{
 "cells": [
  {
   "cell_type": "markdown",
   "metadata": {},
   "source": [
    "# Final Project: Overview\n",
    "\n",
    "# Objective\n",
    "\n",
    "The objective of this project is for you to demonstrate your mastery of the Machine Learning process\n",
    "**using Neural Networks**.\n",
    "\n"
   ]
  },
  {
   "cell_type": "markdown",
   "metadata": {},
   "source": [
    "# Import Modules"
   ]
  },
  {
   "cell_type": "code",
   "execution_count": 2,
   "metadata": {},
   "outputs": [],
   "source": [
    "import numpy as np\n",
    "import pandas as pd\n",
    "import matplotlib.pyplot as plt\n",
    "\n",
    "import sklearn\n",
    "\n",
    "import os\n",
    "import math\n",
    "\n",
    "%matplotlib inline\n",
    "\n",
    "## Import tensorflow\n",
    "import tensorflow as tf\n",
    "from tensorflow.keras.utils import plot_model\n",
    "\n",
    "import seaborn as sns\n",
    "from sklearn.preprocessing import StandardScaler\n",
    "from sklearn.preprocessing import MinMaxScaler\n",
    "import sklearn.preprocessing\n",
    "from tensorflow.keras.models import Model, Sequential\n",
    "from tensorflow.keras import layers\n",
    "from tensorflow.keras.layers import LSTM\n",
    "from tensorflow.keras.layers import Dropout\n",
    "from tensorflow.keras.layers import Dense\n",
    "from tensorflow.keras.layers import Conv1D\n",
    "from tensorflow.keras.layers import MaxPooling1D\n",
    "from tensorflow.keras.layers import Flatten\n",
    "from sklearn import svm\n",
    "from sklearn.metrics import accuracy_score, recall_score, precision_score, balanced_accuracy_score\n",
    "from sklearn.inspection import permutation_importance"
   ]
  },
  {
   "cell_type": "markdown",
   "metadata": {},
   "source": [
    "# Import Data"
   ]
  },
  {
   "cell_type": "code",
   "execution_count": 3,
   "metadata": {},
   "outputs": [
    {
     "data": {
      "text/html": [
       "<div>\n",
       "<style scoped>\n",
       "    .dataframe tbody tr th:only-of-type {\n",
       "        vertical-align: middle;\n",
       "    }\n",
       "\n",
       "    .dataframe tbody tr th {\n",
       "        vertical-align: top;\n",
       "    }\n",
       "\n",
       "    .dataframe thead th {\n",
       "        text-align: right;\n",
       "    }\n",
       "</style>\n",
       "<table border=\"1\" class=\"dataframe\">\n",
       "  <thead>\n",
       "    <tr style=\"text-align: right;\">\n",
       "      <th></th>\n",
       "      <th>Adj Close</th>\n",
       "      <th>Close</th>\n",
       "      <th>Div</th>\n",
       "      <th>Factor</th>\n",
       "      <th>High</th>\n",
       "      <th>Low</th>\n",
       "      <th>Open</th>\n",
       "      <th>Volume</th>\n",
       "    </tr>\n",
       "    <tr>\n",
       "      <th>Dt</th>\n",
       "      <th></th>\n",
       "      <th></th>\n",
       "      <th></th>\n",
       "      <th></th>\n",
       "      <th></th>\n",
       "      <th></th>\n",
       "      <th></th>\n",
       "      <th></th>\n",
       "    </tr>\n",
       "  </thead>\n",
       "  <tbody>\n",
       "    <tr>\n",
       "      <th>2000-01-03</th>\n",
       "      <td>3.4785</td>\n",
       "      <td>111.938</td>\n",
       "      <td>0.0</td>\n",
       "      <td>1.0</td>\n",
       "      <td>112.5000</td>\n",
       "      <td>101.688</td>\n",
       "      <td>104.8750</td>\n",
       "      <td>133949200.0</td>\n",
       "    </tr>\n",
       "    <tr>\n",
       "      <th>2000-01-04</th>\n",
       "      <td>3.1852</td>\n",
       "      <td>102.500</td>\n",
       "      <td>0.0</td>\n",
       "      <td>1.0</td>\n",
       "      <td>110.6250</td>\n",
       "      <td>101.188</td>\n",
       "      <td>108.2500</td>\n",
       "      <td>128094400.0</td>\n",
       "    </tr>\n",
       "    <tr>\n",
       "      <th>2000-01-05</th>\n",
       "      <td>3.2318</td>\n",
       "      <td>104.000</td>\n",
       "      <td>0.0</td>\n",
       "      <td>1.0</td>\n",
       "      <td>110.5630</td>\n",
       "      <td>103.000</td>\n",
       "      <td>103.7500</td>\n",
       "      <td>194580400.0</td>\n",
       "    </tr>\n",
       "    <tr>\n",
       "      <th>2000-01-06</th>\n",
       "      <td>2.9521</td>\n",
       "      <td>95.000</td>\n",
       "      <td>0.0</td>\n",
       "      <td>1.0</td>\n",
       "      <td>107.0000</td>\n",
       "      <td>95.000</td>\n",
       "      <td>106.1183</td>\n",
       "      <td>191993200.0</td>\n",
       "    </tr>\n",
       "    <tr>\n",
       "      <th>2000-01-07</th>\n",
       "      <td>3.0920</td>\n",
       "      <td>99.500</td>\n",
       "      <td>0.0</td>\n",
       "      <td>1.0</td>\n",
       "      <td>101.0000</td>\n",
       "      <td>95.500</td>\n",
       "      <td>96.5000</td>\n",
       "      <td>115183600.0</td>\n",
       "    </tr>\n",
       "    <tr>\n",
       "      <th>...</th>\n",
       "      <td>...</td>\n",
       "      <td>...</td>\n",
       "      <td>...</td>\n",
       "      <td>...</td>\n",
       "      <td>...</td>\n",
       "      <td>...</td>\n",
       "      <td>...</td>\n",
       "      <td>...</td>\n",
       "    </tr>\n",
       "    <tr>\n",
       "      <th>2016-12-23</th>\n",
       "      <td>111.3073</td>\n",
       "      <td>116.520</td>\n",
       "      <td>0.0</td>\n",
       "      <td>1.0</td>\n",
       "      <td>116.5255</td>\n",
       "      <td>115.590</td>\n",
       "      <td>115.5900</td>\n",
       "      <td>14249500.0</td>\n",
       "    </tr>\n",
       "    <tr>\n",
       "      <th>2016-12-27</th>\n",
       "      <td>112.0142</td>\n",
       "      <td>117.260</td>\n",
       "      <td>0.0</td>\n",
       "      <td>1.0</td>\n",
       "      <td>117.8000</td>\n",
       "      <td>116.490</td>\n",
       "      <td>116.5200</td>\n",
       "      <td>18296900.0</td>\n",
       "    </tr>\n",
       "    <tr>\n",
       "      <th>2016-12-28</th>\n",
       "      <td>111.5366</td>\n",
       "      <td>116.760</td>\n",
       "      <td>0.0</td>\n",
       "      <td>1.0</td>\n",
       "      <td>118.0170</td>\n",
       "      <td>116.200</td>\n",
       "      <td>117.5200</td>\n",
       "      <td>20905900.0</td>\n",
       "    </tr>\n",
       "    <tr>\n",
       "      <th>2016-12-29</th>\n",
       "      <td>111.5079</td>\n",
       "      <td>116.730</td>\n",
       "      <td>0.0</td>\n",
       "      <td>1.0</td>\n",
       "      <td>117.1094</td>\n",
       "      <td>116.400</td>\n",
       "      <td>116.4500</td>\n",
       "      <td>15039500.0</td>\n",
       "    </tr>\n",
       "    <tr>\n",
       "      <th>2016-12-30</th>\n",
       "      <td>110.6386</td>\n",
       "      <td>115.820</td>\n",
       "      <td>0.0</td>\n",
       "      <td>1.0</td>\n",
       "      <td>117.2000</td>\n",
       "      <td>115.430</td>\n",
       "      <td>116.6577</td>\n",
       "      <td>30586300.0</td>\n",
       "    </tr>\n",
       "  </tbody>\n",
       "</table>\n",
       "<p>4277 rows × 8 columns</p>\n",
       "</div>"
      ],
      "text/plain": [
       "            Adj Close    Close  Div  Factor      High      Low      Open  \\\n",
       "Dt                                                                         \n",
       "2000-01-03     3.4785  111.938  0.0     1.0  112.5000  101.688  104.8750   \n",
       "2000-01-04     3.1852  102.500  0.0     1.0  110.6250  101.188  108.2500   \n",
       "2000-01-05     3.2318  104.000  0.0     1.0  110.5630  103.000  103.7500   \n",
       "2000-01-06     2.9521   95.000  0.0     1.0  107.0000   95.000  106.1183   \n",
       "2000-01-07     3.0920   99.500  0.0     1.0  101.0000   95.500   96.5000   \n",
       "...               ...      ...  ...     ...       ...      ...       ...   \n",
       "2016-12-23   111.3073  116.520  0.0     1.0  116.5255  115.590  115.5900   \n",
       "2016-12-27   112.0142  117.260  0.0     1.0  117.8000  116.490  116.5200   \n",
       "2016-12-28   111.5366  116.760  0.0     1.0  118.0170  116.200  117.5200   \n",
       "2016-12-29   111.5079  116.730  0.0     1.0  117.1094  116.400  116.4500   \n",
       "2016-12-30   110.6386  115.820  0.0     1.0  117.2000  115.430  116.6577   \n",
       "\n",
       "                 Volume  \n",
       "Dt                       \n",
       "2000-01-03  133949200.0  \n",
       "2000-01-04  128094400.0  \n",
       "2000-01-05  194580400.0  \n",
       "2000-01-06  191993200.0  \n",
       "2000-01-07  115183600.0  \n",
       "...                 ...  \n",
       "2016-12-23   14249500.0  \n",
       "2016-12-27   18296900.0  \n",
       "2016-12-28   20905900.0  \n",
       "2016-12-29   15039500.0  \n",
       "2016-12-30   30586300.0  \n",
       "\n",
       "[4277 rows x 8 columns]"
      ]
     },
     "execution_count": 3,
     "metadata": {},
     "output_type": "execute_result"
    }
   ],
   "source": [
    "df = pd.read_csv('Data/train/AAPL.csv', index_col=\"Dt\")\n",
    "df"
   ]
  },
  {
   "cell_type": "markdown",
   "metadata": {},
   "source": [
    "# EDA"
   ]
  },
  {
   "cell_type": "markdown",
   "metadata": {},
   "source": [
    "Move the close data which is the target variable to the last column"
   ]
  },
  {
   "cell_type": "code",
   "execution_count": 4,
   "metadata": {},
   "outputs": [
    {
     "data": {
      "text/html": [
       "<div>\n",
       "<style scoped>\n",
       "    .dataframe tbody tr th:only-of-type {\n",
       "        vertical-align: middle;\n",
       "    }\n",
       "\n",
       "    .dataframe tbody tr th {\n",
       "        vertical-align: top;\n",
       "    }\n",
       "\n",
       "    .dataframe thead th {\n",
       "        text-align: right;\n",
       "    }\n",
       "</style>\n",
       "<table border=\"1\" class=\"dataframe\">\n",
       "  <thead>\n",
       "    <tr style=\"text-align: right;\">\n",
       "      <th></th>\n",
       "      <th>Adj Close</th>\n",
       "      <th>Div</th>\n",
       "      <th>Factor</th>\n",
       "      <th>High</th>\n",
       "      <th>Low</th>\n",
       "      <th>Open</th>\n",
       "      <th>Volume</th>\n",
       "      <th>Close</th>\n",
       "    </tr>\n",
       "    <tr>\n",
       "      <th>Dt</th>\n",
       "      <th></th>\n",
       "      <th></th>\n",
       "      <th></th>\n",
       "      <th></th>\n",
       "      <th></th>\n",
       "      <th></th>\n",
       "      <th></th>\n",
       "      <th></th>\n",
       "    </tr>\n",
       "  </thead>\n",
       "  <tbody>\n",
       "    <tr>\n",
       "      <th>2000-01-03</th>\n",
       "      <td>3.4785</td>\n",
       "      <td>0.0</td>\n",
       "      <td>1.0</td>\n",
       "      <td>112.5000</td>\n",
       "      <td>101.688</td>\n",
       "      <td>104.8750</td>\n",
       "      <td>133949200.0</td>\n",
       "      <td>111.938</td>\n",
       "    </tr>\n",
       "    <tr>\n",
       "      <th>2000-01-04</th>\n",
       "      <td>3.1852</td>\n",
       "      <td>0.0</td>\n",
       "      <td>1.0</td>\n",
       "      <td>110.6250</td>\n",
       "      <td>101.188</td>\n",
       "      <td>108.2500</td>\n",
       "      <td>128094400.0</td>\n",
       "      <td>102.500</td>\n",
       "    </tr>\n",
       "    <tr>\n",
       "      <th>2000-01-05</th>\n",
       "      <td>3.2318</td>\n",
       "      <td>0.0</td>\n",
       "      <td>1.0</td>\n",
       "      <td>110.5630</td>\n",
       "      <td>103.000</td>\n",
       "      <td>103.7500</td>\n",
       "      <td>194580400.0</td>\n",
       "      <td>104.000</td>\n",
       "    </tr>\n",
       "    <tr>\n",
       "      <th>2000-01-06</th>\n",
       "      <td>2.9521</td>\n",
       "      <td>0.0</td>\n",
       "      <td>1.0</td>\n",
       "      <td>107.0000</td>\n",
       "      <td>95.000</td>\n",
       "      <td>106.1183</td>\n",
       "      <td>191993200.0</td>\n",
       "      <td>95.000</td>\n",
       "    </tr>\n",
       "    <tr>\n",
       "      <th>2000-01-07</th>\n",
       "      <td>3.0920</td>\n",
       "      <td>0.0</td>\n",
       "      <td>1.0</td>\n",
       "      <td>101.0000</td>\n",
       "      <td>95.500</td>\n",
       "      <td>96.5000</td>\n",
       "      <td>115183600.0</td>\n",
       "      <td>99.500</td>\n",
       "    </tr>\n",
       "    <tr>\n",
       "      <th>...</th>\n",
       "      <td>...</td>\n",
       "      <td>...</td>\n",
       "      <td>...</td>\n",
       "      <td>...</td>\n",
       "      <td>...</td>\n",
       "      <td>...</td>\n",
       "      <td>...</td>\n",
       "      <td>...</td>\n",
       "    </tr>\n",
       "    <tr>\n",
       "      <th>2016-12-23</th>\n",
       "      <td>111.3073</td>\n",
       "      <td>0.0</td>\n",
       "      <td>1.0</td>\n",
       "      <td>116.5255</td>\n",
       "      <td>115.590</td>\n",
       "      <td>115.5900</td>\n",
       "      <td>14249500.0</td>\n",
       "      <td>116.520</td>\n",
       "    </tr>\n",
       "    <tr>\n",
       "      <th>2016-12-27</th>\n",
       "      <td>112.0142</td>\n",
       "      <td>0.0</td>\n",
       "      <td>1.0</td>\n",
       "      <td>117.8000</td>\n",
       "      <td>116.490</td>\n",
       "      <td>116.5200</td>\n",
       "      <td>18296900.0</td>\n",
       "      <td>117.260</td>\n",
       "    </tr>\n",
       "    <tr>\n",
       "      <th>2016-12-28</th>\n",
       "      <td>111.5366</td>\n",
       "      <td>0.0</td>\n",
       "      <td>1.0</td>\n",
       "      <td>118.0170</td>\n",
       "      <td>116.200</td>\n",
       "      <td>117.5200</td>\n",
       "      <td>20905900.0</td>\n",
       "      <td>116.760</td>\n",
       "    </tr>\n",
       "    <tr>\n",
       "      <th>2016-12-29</th>\n",
       "      <td>111.5079</td>\n",
       "      <td>0.0</td>\n",
       "      <td>1.0</td>\n",
       "      <td>117.1094</td>\n",
       "      <td>116.400</td>\n",
       "      <td>116.4500</td>\n",
       "      <td>15039500.0</td>\n",
       "      <td>116.730</td>\n",
       "    </tr>\n",
       "    <tr>\n",
       "      <th>2016-12-30</th>\n",
       "      <td>110.6386</td>\n",
       "      <td>0.0</td>\n",
       "      <td>1.0</td>\n",
       "      <td>117.2000</td>\n",
       "      <td>115.430</td>\n",
       "      <td>116.6577</td>\n",
       "      <td>30586300.0</td>\n",
       "      <td>115.820</td>\n",
       "    </tr>\n",
       "  </tbody>\n",
       "</table>\n",
       "<p>4277 rows × 8 columns</p>\n",
       "</div>"
      ],
      "text/plain": [
       "            Adj Close  Div  Factor      High      Low      Open       Volume  \\\n",
       "Dt                                                                             \n",
       "2000-01-03     3.4785  0.0     1.0  112.5000  101.688  104.8750  133949200.0   \n",
       "2000-01-04     3.1852  0.0     1.0  110.6250  101.188  108.2500  128094400.0   \n",
       "2000-01-05     3.2318  0.0     1.0  110.5630  103.000  103.7500  194580400.0   \n",
       "2000-01-06     2.9521  0.0     1.0  107.0000   95.000  106.1183  191993200.0   \n",
       "2000-01-07     3.0920  0.0     1.0  101.0000   95.500   96.5000  115183600.0   \n",
       "...               ...  ...     ...       ...      ...       ...          ...   \n",
       "2016-12-23   111.3073  0.0     1.0  116.5255  115.590  115.5900   14249500.0   \n",
       "2016-12-27   112.0142  0.0     1.0  117.8000  116.490  116.5200   18296900.0   \n",
       "2016-12-28   111.5366  0.0     1.0  118.0170  116.200  117.5200   20905900.0   \n",
       "2016-12-29   111.5079  0.0     1.0  117.1094  116.400  116.4500   15039500.0   \n",
       "2016-12-30   110.6386  0.0     1.0  117.2000  115.430  116.6577   30586300.0   \n",
       "\n",
       "              Close  \n",
       "Dt                   \n",
       "2000-01-03  111.938  \n",
       "2000-01-04  102.500  \n",
       "2000-01-05  104.000  \n",
       "2000-01-06   95.000  \n",
       "2000-01-07   99.500  \n",
       "...             ...  \n",
       "2016-12-23  116.520  \n",
       "2016-12-27  117.260  \n",
       "2016-12-28  116.760  \n",
       "2016-12-29  116.730  \n",
       "2016-12-30  115.820  \n",
       "\n",
       "[4277 rows x 8 columns]"
      ]
     },
     "execution_count": 4,
     "metadata": {},
     "output_type": "execute_result"
    }
   ],
   "source": [
    "df = df.reindex(columns=['Adj Close', 'Div', 'Factor', 'High', 'Low', 'Open', 'Volume','Close'])\n",
    "df"
   ]
  },
  {
   "cell_type": "markdown",
   "metadata": {},
   "source": [
    "Check the shape of dataframe"
   ]
  },
  {
   "cell_type": "code",
   "execution_count": 5,
   "metadata": {},
   "outputs": [
    {
     "data": {
      "text/plain": [
       "(4277, 8)"
      ]
     },
     "execution_count": 5,
     "metadata": {},
     "output_type": "execute_result"
    }
   ],
   "source": [
    "df.shape"
   ]
  },
  {
   "cell_type": "markdown",
   "metadata": {},
   "source": [
    "By looking at the shape and information of the dataframe, I know that there is no null value in the data, and all data type are good. So I don't need to handle missing features."
   ]
  },
  {
   "cell_type": "code",
   "execution_count": 6,
   "metadata": {},
   "outputs": [
    {
     "name": "stdout",
     "output_type": "stream",
     "text": [
      "<class 'pandas.core.frame.DataFrame'>\n",
      "Index: 4277 entries, 2000-01-03 to 2016-12-30\n",
      "Data columns (total 8 columns):\n",
      " #   Column     Non-Null Count  Dtype  \n",
      "---  ------     --------------  -----  \n",
      " 0   Adj Close  4277 non-null   float64\n",
      " 1   Div        4277 non-null   float64\n",
      " 2   Factor     4277 non-null   float64\n",
      " 3   High       4277 non-null   float64\n",
      " 4   Low        4277 non-null   float64\n",
      " 5   Open       4277 non-null   float64\n",
      " 6   Volume     4277 non-null   float64\n",
      " 7   Close      4277 non-null   float64\n",
      "dtypes: float64(8)\n",
      "memory usage: 300.7+ KB\n"
     ]
    }
   ],
   "source": [
    "df.info()"
   ]
  },
  {
   "cell_type": "markdown",
   "metadata": {},
   "source": [
    "By using descirbe function, I found out that high and low are very similar to close, so those two feature can help me a lot on the prediction of close value."
   ]
  },
  {
   "cell_type": "code",
   "execution_count": 7,
   "metadata": {},
   "outputs": [
    {
     "data": {
      "text/html": [
       "<div>\n",
       "<style scoped>\n",
       "    .dataframe tbody tr th:only-of-type {\n",
       "        vertical-align: middle;\n",
       "    }\n",
       "\n",
       "    .dataframe tbody tr th {\n",
       "        vertical-align: top;\n",
       "    }\n",
       "\n",
       "    .dataframe thead th {\n",
       "        text-align: right;\n",
       "    }\n",
       "</style>\n",
       "<table border=\"1\" class=\"dataframe\">\n",
       "  <thead>\n",
       "    <tr style=\"text-align: right;\">\n",
       "      <th></th>\n",
       "      <th>Adj Close</th>\n",
       "      <th>Div</th>\n",
       "      <th>Factor</th>\n",
       "      <th>High</th>\n",
       "      <th>Low</th>\n",
       "      <th>Open</th>\n",
       "      <th>Volume</th>\n",
       "      <th>Close</th>\n",
       "    </tr>\n",
       "  </thead>\n",
       "  <tbody>\n",
       "    <tr>\n",
       "      <th>count</th>\n",
       "      <td>4277.000000</td>\n",
       "      <td>4277.000000</td>\n",
       "      <td>4277.000000</td>\n",
       "      <td>4277.000000</td>\n",
       "      <td>4277.000000</td>\n",
       "      <td>4277.000000</td>\n",
       "      <td>4.277000e+03</td>\n",
       "      <td>4277.000000</td>\n",
       "    </tr>\n",
       "    <tr>\n",
       "      <th>mean</th>\n",
       "      <td>34.065846</td>\n",
       "      <td>0.001999</td>\n",
       "      <td>1.001870</td>\n",
       "      <td>172.424040</td>\n",
       "      <td>168.407568</td>\n",
       "      <td>170.528689</td>\n",
       "      <td>1.299660e+08</td>\n",
       "      <td>170.450354</td>\n",
       "    </tr>\n",
       "    <tr>\n",
       "      <th>std</th>\n",
       "      <td>36.698987</td>\n",
       "      <td>0.031011</td>\n",
       "      <td>0.094251</td>\n",
       "      <td>174.989551</td>\n",
       "      <td>171.934671</td>\n",
       "      <td>173.604272</td>\n",
       "      <td>9.970883e+07</td>\n",
       "      <td>173.484604</td>\n",
       "    </tr>\n",
       "    <tr>\n",
       "      <th>min</th>\n",
       "      <td>0.815400</td>\n",
       "      <td>0.000000</td>\n",
       "      <td>1.000000</td>\n",
       "      <td>13.190000</td>\n",
       "      <td>12.720000</td>\n",
       "      <td>12.990000</td>\n",
       "      <td>9.835000e+06</td>\n",
       "      <td>13.120000</td>\n",
       "    </tr>\n",
       "    <tr>\n",
       "      <th>25%</th>\n",
       "      <td>3.115300</td>\n",
       "      <td>0.000000</td>\n",
       "      <td>1.000000</td>\n",
       "      <td>40.260000</td>\n",
       "      <td>39.030000</td>\n",
       "      <td>39.530000</td>\n",
       "      <td>6.363350e+07</td>\n",
       "      <td>39.759000</td>\n",
       "    </tr>\n",
       "    <tr>\n",
       "      <th>50%</th>\n",
       "      <td>16.948300</td>\n",
       "      <td>0.000000</td>\n",
       "      <td>1.000000</td>\n",
       "      <td>108.360000</td>\n",
       "      <td>105.200000</td>\n",
       "      <td>106.959000</td>\n",
       "      <td>1.016484e+08</td>\n",
       "      <td>106.745000</td>\n",
       "    </tr>\n",
       "    <tr>\n",
       "      <th>75%</th>\n",
       "      <td>62.413600</td>\n",
       "      <td>0.000000</td>\n",
       "      <td>1.000000</td>\n",
       "      <td>224.980000</td>\n",
       "      <td>217.890000</td>\n",
       "      <td>220.010000</td>\n",
       "      <td>1.679636e+08</td>\n",
       "      <td>222.250000</td>\n",
       "    </tr>\n",
       "    <tr>\n",
       "      <th>max</th>\n",
       "      <td>122.771400</td>\n",
       "      <td>0.570000</td>\n",
       "      <td>7.000000</td>\n",
       "      <td>705.070000</td>\n",
       "      <td>699.570000</td>\n",
       "      <td>702.410000</td>\n",
       "      <td>1.855410e+09</td>\n",
       "      <td>702.100000</td>\n",
       "    </tr>\n",
       "  </tbody>\n",
       "</table>\n",
       "</div>"
      ],
      "text/plain": [
       "         Adj Close          Div       Factor         High          Low  \\\n",
       "count  4277.000000  4277.000000  4277.000000  4277.000000  4277.000000   \n",
       "mean     34.065846     0.001999     1.001870   172.424040   168.407568   \n",
       "std      36.698987     0.031011     0.094251   174.989551   171.934671   \n",
       "min       0.815400     0.000000     1.000000    13.190000    12.720000   \n",
       "25%       3.115300     0.000000     1.000000    40.260000    39.030000   \n",
       "50%      16.948300     0.000000     1.000000   108.360000   105.200000   \n",
       "75%      62.413600     0.000000     1.000000   224.980000   217.890000   \n",
       "max     122.771400     0.570000     7.000000   705.070000   699.570000   \n",
       "\n",
       "              Open        Volume        Close  \n",
       "count  4277.000000  4.277000e+03  4277.000000  \n",
       "mean    170.528689  1.299660e+08   170.450354  \n",
       "std     173.604272  9.970883e+07   173.484604  \n",
       "min      12.990000  9.835000e+06    13.120000  \n",
       "25%      39.530000  6.363350e+07    39.759000  \n",
       "50%     106.959000  1.016484e+08   106.745000  \n",
       "75%     220.010000  1.679636e+08   222.250000  \n",
       "max     702.410000  1.855410e+09   702.100000  "
      ]
     },
     "execution_count": 7,
     "metadata": {},
     "output_type": "execute_result"
    }
   ],
   "source": [
    "df.describe()"
   ]
  },
  {
   "cell_type": "markdown",
   "metadata": {},
   "source": [
    "Checking if there are duplicates in the data, the result show there are none."
   ]
  },
  {
   "cell_type": "code",
   "execution_count": 8,
   "metadata": {},
   "outputs": [
    {
     "name": "stdout",
     "output_type": "stream",
     "text": [
      "0\n"
     ]
    },
    {
     "data": {
      "text/html": [
       "<div>\n",
       "<style scoped>\n",
       "    .dataframe tbody tr th:only-of-type {\n",
       "        vertical-align: middle;\n",
       "    }\n",
       "\n",
       "    .dataframe tbody tr th {\n",
       "        vertical-align: top;\n",
       "    }\n",
       "\n",
       "    .dataframe thead th {\n",
       "        text-align: right;\n",
       "    }\n",
       "</style>\n",
       "<table border=\"1\" class=\"dataframe\">\n",
       "  <thead>\n",
       "    <tr style=\"text-align: right;\">\n",
       "      <th></th>\n",
       "      <th>Adj Close</th>\n",
       "      <th>Div</th>\n",
       "      <th>Factor</th>\n",
       "      <th>High</th>\n",
       "      <th>Low</th>\n",
       "      <th>Open</th>\n",
       "      <th>Volume</th>\n",
       "      <th>Close</th>\n",
       "    </tr>\n",
       "    <tr>\n",
       "      <th>Dt</th>\n",
       "      <th></th>\n",
       "      <th></th>\n",
       "      <th></th>\n",
       "      <th></th>\n",
       "      <th></th>\n",
       "      <th></th>\n",
       "      <th></th>\n",
       "      <th></th>\n",
       "    </tr>\n",
       "  </thead>\n",
       "  <tbody>\n",
       "  </tbody>\n",
       "</table>\n",
       "</div>"
      ],
      "text/plain": [
       "Empty DataFrame\n",
       "Columns: [Adj Close, Div, Factor, High, Low, Open, Volume, Close]\n",
       "Index: []"
      ]
     },
     "execution_count": 8,
     "metadata": {},
     "output_type": "execute_result"
    }
   ],
   "source": [
    "duplicate = df.duplicated()\n",
    "print(duplicate.sum())\n",
    "df[duplicate]"
   ]
  },
  {
   "cell_type": "markdown",
   "metadata": {},
   "source": [
    "Check the any column has extreme outliers. Adj Close has none, high, low, and close has some outliers in acceptable range."
   ]
  },
  {
   "cell_type": "code",
   "execution_count": 9,
   "metadata": {},
   "outputs": [
    {
     "data": {
      "text/plain": [
       "<function matplotlib.pyplot.show(close=None, block=None)>"
      ]
     },
     "execution_count": 9,
     "metadata": {},
     "output_type": "execute_result"
    },
    {
     "data": {
      "image/png": "[encoded data removed]",
      "text/plain": [
       "<Figure size 432x288 with 1 Axes>"
      ]
     },
     "metadata": {
      "needs_background": "light"
     },
     "output_type": "display_data"
    }
   ],
   "source": [
    "df.boxplot(column = \"Adj Close\")\n",
    "plt.show"
   ]
  },
  {
   "cell_type": "code",
   "execution_count": 10,
   "metadata": {},
   "outputs": [
    {
     "data": {
      "text/plain": [
       "<function matplotlib.pyplot.show(close=None, block=None)>"
      ]
     },
     "execution_count": 10,
     "metadata": {},
     "output_type": "execute_result"
    },
    {
     "data": {
      "image/png": "[encoded data removed]",
      "text/plain": [
       "<Figure size 432x288 with 1 Axes>"
      ]
     },
     "metadata": {
      "needs_background": "light"
     },
     "output_type": "display_data"
    }
   ],
   "source": [
    "df.boxplot(column = \"Close\")\n",
    "plt.show"
   ]
  },
  {
   "cell_type": "markdown",
   "metadata": {},
   "source": [
    "Seems Volumn has some extreme outliers, so I would replace the outlier."
   ]
  },
  {
   "cell_type": "code",
   "execution_count": 11,
   "metadata": {},
   "outputs": [
    {
     "data": {
      "text/plain": [
       "<AxesSubplot:>"
      ]
     },
     "execution_count": 11,
     "metadata": {},
     "output_type": "execute_result"
    },
    {
     "data": {
      "image/png": "[encoded data removed]",
      "text/plain": [
       "<Figure size 432x288 with 1 Axes>"
      ]
     },
     "metadata": {
      "needs_background": "light"
     },
     "output_type": "display_data"
    }
   ],
   "source": [
    "df.boxplot(column = \"Volume\")"
   ]
  },
  {
   "cell_type": "code",
   "execution_count": 12,
   "metadata": {},
   "outputs": [],
   "source": [
    "def remove_outlier(col):\n",
    "    sorted(col)\n",
    "    Q1, Q3 = col.quantile([0.25,0.75])\n",
    "    IQR = Q3 - Q1\n",
    "    low = Q1-(1.5*IQR)\n",
    "    high = Q3+(1.5*IQR)\n",
    "    return low, high"
   ]
  },
  {
   "cell_type": "code",
   "execution_count": 13,
   "metadata": {},
   "outputs": [],
   "source": [
    "low, high = remove_outlier(df['Volume'])\n",
    "df[\"Volume\"] = np.where(df[\"Volume\"]>high, high, df[\"Volume\"])\n",
    "df[\"Volume\"] = np.where(df[\"Volume\"]<low, low, df[\"Volume\"])"
   ]
  },
  {
   "cell_type": "code",
   "execution_count": 14,
   "metadata": {},
   "outputs": [
    {
     "data": {
      "text/plain": [
       "<AxesSubplot:>"
      ]
     },
     "execution_count": 14,
     "metadata": {},
     "output_type": "execute_result"
    },
    {
     "data": {
      "image/png": "[encoded data removed]",
      "text/plain": [
       "<Figure size 432x288 with 1 Axes>"
      ]
     },
     "metadata": {
      "needs_background": "light"
     },
     "output_type": "display_data"
    }
   ],
   "source": [
    "df.boxplot(column = \"Volume\")"
   ]
  },
  {
   "cell_type": "markdown",
   "metadata": {},
   "source": [
    "Now volume columns looks perfect."
   ]
  },
  {
   "cell_type": "markdown",
   "metadata": {},
   "source": [
    "# Data preprocessing\n",
    "I want 80% data to be my training set and 20% data be my testing dataset. Here X is the data except close,and y is the close. "
   ]
  },
  {
   "cell_type": "code",
   "execution_count": 15,
   "metadata": {},
   "outputs": [],
   "source": [
    "def standard_scaler(train, test):\n",
    "    train_samples, train_nx, train_ny = train.shape\n",
    "    test_samples, test_nx, test_ny = test.shape\n",
    "    \n",
    "    train = train.reshape((train_samples, train_nx * train_ny))\n",
    "    test = test.reshape((test_samples, test_nx * test_ny))\n",
    "    \n",
    "    scaler = StandardScaler()\n",
    "    scaler.fit(train)\n",
    "    train = scaler.transform(train)\n",
    "    test = scaler.transform(test)\n",
    "    \n",
    "    train = train.reshape((train_samples, train_nx, train_ny))\n",
    "    test = test.reshape((test_samples, test_nx, test_ny))\n",
    "    return train, test"
   ]
  },
  {
   "cell_type": "markdown",
   "metadata": {},
   "source": [
    "To do standard scaler, the data need to be in 2 dims, so I reshape the train and test data to transform, then reshape them back."
   ]
  },
  {
   "cell_type": "code",
   "execution_count": 16,
   "metadata": {},
   "outputs": [],
   "source": [
    "def preprocess_data(df, seq):\n",
    "    num_features = len(df.columns)\n",
    "    data = df.values\n",
    "    \n",
    "    sequence = seq + 1\n",
    "    result = []\n",
    "    for i in range(len(data) - sequence):\n",
    "        result.append(data[i:i+sequence])\n",
    "    \n",
    "    result = np.array(result)\n",
    "    row = round(0.8 * result.shape[0])\n",
    "    train = result[:row, :]\n",
    "    test = result[row:, :]\n",
    "    \n",
    "    train, test = standard_scaler(train, test)\n",
    "    \n",
    "    X_train = train[:, : -1]\n",
    "    y_train = train[:, -1][: ,-1]\n",
    "    X_test = test[:, : -1]\n",
    "    y_test = test[:, -1][ : ,-1]\n",
    "    \n",
    "    X_train = np.reshape(X_train, (X_train.shape[0], X_train.shape[1], num_features))\n",
    "    X_test = np.reshape(X_test, (X_test.shape[0], X_test.shape[1], num_features))  \n",
    "\n",
    "    return [X_train, y_train, X_test, y_test]"
   ]
  },
  {
   "cell_type": "markdown",
   "metadata": {},
   "source": [
    "Here is train and test datasets."
   ]
  },
  {
   "cell_type": "code",
   "execution_count": 17,
   "metadata": {},
   "outputs": [
    {
     "name": "stdout",
     "output_type": "stream",
     "text": [
      "X_train (3405, 20, 8)\n",
      "y_train (3405,)\n",
      "X_test (851, 20, 8)\n",
      "y_test (851,)\n"
     ]
    }
   ],
   "source": [
    "window = 20\n",
    "X_train, y_train, X_test, y_test = preprocess_data(df[::-1], window)\n",
    "print(\"X_train\", X_train.shape)\n",
    "print(\"y_train\", y_train.shape)\n",
    "print(\"X_test\", X_test.shape)\n",
    "print(\"y_test\", y_test.shape)"
   ]
  },
  {
   "cell_type": "markdown",
   "metadata": {},
   "source": [
    "# SVM\n",
    "Before using neuron network, I want to first use svm to do regression. I need to reshape X_train and X_test to 2 dim to use SVM fit."
   ]
  },
  {
   "cell_type": "code",
   "execution_count": 18,
   "metadata": {},
   "outputs": [],
   "source": [
    "regr = svm.SVR()\n",
    "train = X_train.reshape((X_train.shape[0], X_train.shape[1]*X_train.shape[2]))\n",
    "test = X_test.reshape((X_test.shape[0], X_test.shape[1]*X_test.shape[2]))\n",
    "regr.fit(train, y_train)\n",
    "pred = regr.predict(test)"
   ]
  },
  {
   "cell_type": "markdown",
   "metadata": {},
   "source": [
    "The accuracy score is pretty low."
   ]
  },
  {
   "cell_type": "code",
   "execution_count": 19,
   "metadata": {},
   "outputs": [
    {
     "data": {
      "text/plain": [
       "0.7906743638541411"
      ]
     },
     "execution_count": 19,
     "metadata": {},
     "output_type": "execute_result"
    }
   ],
   "source": [
    "regr.score(test,y_test)"
   ]
  },
  {
   "cell_type": "markdown",
   "metadata": {},
   "source": [
    "Here is the graph of predict vs. actual. SVM actually did a great job that I didn't expect. There are some places that predicts are far off the actual close value, but for the most part, it did a great job"
   ]
  },
  {
   "cell_type": "code",
   "execution_count": 20,
   "metadata": {},
   "outputs": [
    {
     "data": {
      "image/png": "[encoded data removed]",
      "text/plain": [
       "<Figure size 432x288 with 1 Axes>"
      ]
     },
     "metadata": {
      "needs_background": "light"
     },
     "output_type": "display_data"
    }
   ],
   "source": [
    "plt.plot(pred, color='red', label='Prediction')\n",
    "plt.plot(y_test, color='blue', label='Actual')\n",
    "plt.legend(loc='upper left')\n",
    "plt.show()"
   ]
  },
  {
   "cell_type": "markdown",
   "metadata": {},
   "source": [
    "# Create simple CNN model\n",
    "For the first model, I would try the simplest CNN model as baseline method"
   ]
  },
  {
   "cell_type": "code",
   "execution_count": 21,
   "metadata": {},
   "outputs": [],
   "source": [
    "def build_model1(layers):\n",
    "    model = Sequential()\n",
    "    model.add(Conv1D(128, kernel_size=3, padding='same', activation=\"relu\", input_shape=(20,8)))\n",
    "    model.add(Dropout(rate=0.2))\n",
    "    model.add(Flatten())\n",
    "    model.add(Dense(layers[3], activation=\"relu\"))\n",
    "    model.compile(loss='mse',optimizer='adam',metrics=['accuracy'])\n",
    "    return model"
   ]
  },
  {
   "cell_type": "markdown",
   "metadata": {},
   "source": [
    "First I build the model, then fit the model. I set epochs to 50."
   ]
  },
  {
   "cell_type": "code",
   "execution_count": 22,
   "metadata": {},
   "outputs": [],
   "source": [
    "model1 = build_model1([X_train.shape[2], window, 100, 1])"
   ]
  },
  {
   "cell_type": "code",
   "execution_count": 23,
   "metadata": {},
   "outputs": [
    {
     "data": {
      "text/plain": [
       "<tensorflow.python.keras.callbacks.History at 0x1f5327949a0>"
      ]
     },
     "execution_count": 23,
     "metadata": {},
     "output_type": "execute_result"
    }
   ],
   "source": [
    "model1.fit(X_train,y_train,batch_size=512,epochs=50,validation_split=0.1,verbose=0)"
   ]
  },
  {
   "cell_type": "markdown",
   "metadata": {},
   "source": [
    "The MSE score for train and test are both bad, but it's just the simplest model. I will see if the scores improve in other models."
   ]
  },
  {
   "cell_type": "code",
   "execution_count": 24,
   "metadata": {},
   "outputs": [
    {
     "name": "stdout",
     "output_type": "stream",
     "text": [
      "Train Score: 0.31 MSE (0.56 RMSE)\n",
      "Test Score: 0.95 MSE (0.97 RMSE)\n"
     ]
    }
   ],
   "source": [
    "trainScore = model1.evaluate(X_train, y_train, verbose=0)\n",
    "print('Train Score: %.2f MSE (%.2f RMSE)' % (trainScore[0], math.sqrt(trainScore[0])))\n",
    "\n",
    "testScore = model1.evaluate(X_test, y_test, verbose=0)\n",
    "print('Test Score: %.2f MSE (%.2f RMSE)' % (testScore[0], math.sqrt(testScore[0])))"
   ]
  },
  {
   "cell_type": "markdown",
   "metadata": {},
   "source": [
    "# Complex CNN Model\n",
    "I will put more layers into the CNN model, include max pooling layers."
   ]
  },
  {
   "cell_type": "code",
   "execution_count": 25,
   "metadata": {},
   "outputs": [],
   "source": [
    "def build_model2(layers):\n",
    "    model = Sequential()\n",
    "    model.add(Conv1D(128, kernel_size=3, padding='same', activation=\"relu\", input_shape=(20,8)))\n",
    "    model.add(Conv1D(128, kernel_size=3, padding='same', activation=\"relu\"))\n",
    "    model.add(Dropout(rate=0.2))\n",
    "    model.add(MaxPooling1D(pool_size=2))\n",
    "    model.add(Conv1D(256, kernel_size=3, padding='same', activation=\"relu\"))\n",
    "    model.add(Conv1D(256, kernel_size=3, padding='same', activation=\"relu\"))\n",
    "    model.add(Dropout(rate=0.2))\n",
    "    model.add(MaxPooling1D(pool_size=2))\n",
    "    model.add(Flatten())\n",
    "    model.add(Dense(layers[3], activation=\"relu\"))\n",
    "    model.compile(loss='mse',optimizer='adam',metrics=['accuracy'])\n",
    "    return model"
   ]
  },
  {
   "cell_type": "code",
   "execution_count": 26,
   "metadata": {},
   "outputs": [
    {
     "data": {
      "text/plain": [
       "<tensorflow.python.keras.callbacks.History at 0x1f534e60d00>"
      ]
     },
     "execution_count": 26,
     "metadata": {},
     "output_type": "execute_result"
    }
   ],
   "source": [
    "model2 = build_model2([X_train.shape[2], window, 100, 1])\n",
    "model2.fit(X_train,y_train,batch_size=512,epochs=50,validation_split=0.1,verbose=0)"
   ]
  },
  {
   "cell_type": "markdown",
   "metadata": {},
   "source": [
    "The train and test scores become worse then the baseline model."
   ]
  },
  {
   "cell_type": "code",
   "execution_count": 27,
   "metadata": {},
   "outputs": [
    {
     "name": "stdout",
     "output_type": "stream",
     "text": [
      "Train Score: 1.00 MSE (1.00 RMSE)\n",
      "Test Score: 0.95 MSE (0.97 RMSE)\n"
     ]
    }
   ],
   "source": [
    "trainScore = model2.evaluate(X_train, y_train, verbose=0)\n",
    "print('Train Score: %.2f MSE (%.2f RMSE)' % (trainScore[0], math.sqrt(trainScore[0])))\n",
    "\n",
    "testScore = model2.evaluate(X_test, y_test, verbose=0)\n",
    "print('Test Score: %.2f MSE (%.2f RMSE)' % (testScore[0], math.sqrt(testScore[0])))"
   ]
  },
  {
   "cell_type": "code",
   "execution_count": 28,
   "metadata": {
    "scrolled": false
   },
   "outputs": [],
   "source": [
    "def build_model(layers):\n",
    "    d = 0.2\n",
    "    model = Sequential()\n",
    "    model.add(LSTM(128, input_shape=(layers[1], layers[0]), return_sequences=True))\n",
    "    model.add(Dropout(d))\n",
    "    model.add(LSTM(64, input_shape=(layers[1], layers[0]), return_sequences=False))\n",
    "    model.add(Dropout(d))\n",
    "    model.add(Dense(16,kernel_initializer='uniform',activation='relu'))        \n",
    "    model.add(Dense(1,kernel_initializer='uniform',activation='relu'))\n",
    "    model.compile(loss='mse',optimizer='adam',metrics=['accuracy'])\n",
    "    return model"
   ]
  },
  {
   "cell_type": "markdown",
   "metadata": {},
   "source": [
    "# LSTM\n",
    "Using RNN model or LSTM. Also I set return sequences to true, so I can have two LSTM layers."
   ]
  },
  {
   "cell_type": "code",
   "execution_count": 29,
   "metadata": {},
   "outputs": [],
   "source": [
    "def build_model3(layers):\n",
    "    model = Sequential()\n",
    "    model.add(LSTM(128,input_shape=(layers[1], layers[0]),activation='relu', return_sequences=True))\n",
    "    model.add(Dropout(0.4))\n",
    "\n",
    "    model.add(LSTM(128,input_shape=(layers[1], layers[0]),activation='relu', return_sequences=False))\n",
    "    model.add(Dropout(0.3))\n",
    "\n",
    "    model.add(Dense(layers[3]))\n",
    "\n",
    "\n",
    "    model.compile(loss=\"mse\", optimizer=\"rmsprop\", metrics=['accuracy'])\n",
    "    return model"
   ]
  },
  {
   "cell_type": "code",
   "execution_count": 30,
   "metadata": {},
   "outputs": [],
   "source": [
    "model3 = build_model3([X_train.shape[2], window, 100, 1])"
   ]
  },
  {
   "cell_type": "code",
   "execution_count": 31,
   "metadata": {},
   "outputs": [
    {
     "data": {
      "text/plain": [
       "<tensorflow.python.keras.callbacks.History at 0x1f5364b2ee0>"
      ]
     },
     "execution_count": 31,
     "metadata": {},
     "output_type": "execute_result"
    }
   ],
   "source": [
    "model3.fit(X_train,y_train,batch_size=512,epochs=50,validation_split=0.1,verbose=0)"
   ]
  },
  {
   "cell_type": "markdown",
   "metadata": {},
   "source": [
    "The scores shows LSTM did a suprisingly good job to predict the close value of stock. I expect LSTM to have lower MSE scores than CNN but not this good."
   ]
  },
  {
   "cell_type": "code",
   "execution_count": 32,
   "metadata": {},
   "outputs": [
    {
     "name": "stdout",
     "output_type": "stream",
     "text": [
      "Train Score: 0.00 MSE (0.07 RMSE)\n",
      "Test Score: 0.00 MSE (0.04 RMSE)\n"
     ]
    }
   ],
   "source": [
    "trainScore = model3.evaluate(X_train, y_train, verbose=0)\n",
    "print('Train Score: %.2f MSE (%.2f RMSE)' % (trainScore[0], math.sqrt(trainScore[0])))\n",
    "\n",
    "testScore = model3.evaluate(X_test, y_test, verbose=0)\n",
    "print('Test Score: %.2f MSE (%.2f RMSE)' % (testScore[0], math.sqrt(testScore[0])))"
   ]
  },
  {
   "cell_type": "markdown",
   "metadata": {},
   "source": [
    "The graph of LSTM model, I can see that predict are very similar to the actual."
   ]
  },
  {
   "cell_type": "code",
   "execution_count": 33,
   "metadata": {},
   "outputs": [
    {
     "data": {
      "image/png": "[encoded data removed]",
      "text/plain": [
       "<Figure size 432x288 with 1 Axes>"
      ]
     },
     "metadata": {
      "needs_background": "light"
     },
     "output_type": "display_data"
    }
   ],
   "source": [
    "%matplotlib inline \n",
    "pred = model3.predict(X_test)\n",
    "plt.plot(pred, color='red', label='Prediction')\n",
    "plt.plot(y_test, color='blue', label='Actual')\n",
    "plt.legend(loc='upper left')\n",
    "plt.show()"
   ]
  },
  {
   "cell_type": "markdown",
   "metadata": {},
   "source": [
    "Try different optimizier for LSTM."
   ]
  },
  {
   "cell_type": "code",
   "execution_count": 34,
   "metadata": {},
   "outputs": [],
   "source": [
    "def build_model4(layers):\n",
    "    model = Sequential()\n",
    "    model.add(LSTM(128,input_shape=(layers[1], layers[0]),activation='relu', return_sequences=True))\n",
    "    model.add(Dropout(0.4))\n",
    "\n",
    "    model.add(LSTM(128,input_shape=(layers[1], layers[0]),activation='relu', return_sequences=False))\n",
    "    model.add(Dropout(0.3))\n",
    "\n",
    "    model.add(Dense(layers[3]))\n",
    "\n",
    "    model.compile(loss=\"mse\", optimizer=\"adam\", metrics=['accuracy'])\n",
    "    return model"
   ]
  },
  {
   "cell_type": "code",
   "execution_count": 35,
   "metadata": {},
   "outputs": [
    {
     "data": {
      "text/plain": [
       "<tensorflow.python.keras.callbacks.History at 0x1f5455758b0>"
      ]
     },
     "execution_count": 35,
     "metadata": {},
     "output_type": "execute_result"
    }
   ],
   "source": [
    "model4 = build_model4([X_train.shape[2], window, 100, 1])\n",
    "model4.fit(X_train,y_train,batch_size=512,epochs=50,validation_split=0.1,verbose=0)"
   ]
  },
  {
   "cell_type": "markdown",
   "metadata": {},
   "source": [
    "By switch the optimizer to adam, the mse score for both train and test has improved."
   ]
  },
  {
   "cell_type": "code",
   "execution_count": 36,
   "metadata": {},
   "outputs": [
    {
     "name": "stdout",
     "output_type": "stream",
     "text": [
      "Train Score: 0.00 MSE (0.06 RMSE)\n",
      "Test Score: 0.00 MSE (0.04 RMSE)\n"
     ]
    }
   ],
   "source": [
    "trainScore = model4.evaluate(X_train, y_train, verbose=0)\n",
    "print('Train Score: %.2f MSE (%.2f RMSE)' % (trainScore[0], math.sqrt(trainScore[0])))\n",
    "\n",
    "testScore = model4.evaluate(X_test, y_test, verbose=0)\n",
    "print('Test Score: %.2f MSE (%.2f RMSE)' % (testScore[0], math.sqrt(testScore[0])))"
   ]
  },
  {
   "cell_type": "markdown",
   "metadata": {},
   "source": [
    "By comparing the graph, we can see that using adam as optimizer has a better prediction overall, espically on the fisrt half of the data."
   ]
  },
  {
   "cell_type": "code",
   "execution_count": 37,
   "metadata": {},
   "outputs": [
    {
     "data": {
      "image/png": "[encoded data removed]",
      "text/plain": [
       "<Figure size 432x288 with 1 Axes>"
      ]
     },
     "metadata": {
      "needs_background": "light"
     },
     "output_type": "display_data"
    }
   ],
   "source": [
    "%matplotlib inline \n",
    "pred = model4.predict(X_test)\n",
    "plt.plot(pred, color='red', label='Prediction')\n",
    "plt.plot(y_test, color='blue', label='Actual')\n",
    "plt.legend(loc='upper left')\n",
    "plt.show()"
   ]
  },
  {
   "cell_type": "markdown",
   "metadata": {},
   "source": [
    "# Feature Engineering\n",
    "I would add another stock's close price as a new feature into the datafram to help me predict close price of AAPL. I choose SPY because they are related. I make assumation that those two stock may have a same trending, so SPY's close can help me predict."
   ]
  },
  {
   "cell_type": "code",
   "execution_count": 38,
   "metadata": {},
   "outputs": [
    {
     "data": {
      "text/html": [
       "<div>\n",
       "<style scoped>\n",
       "    .dataframe tbody tr th:only-of-type {\n",
       "        vertical-align: middle;\n",
       "    }\n",
       "\n",
       "    .dataframe tbody tr th {\n",
       "        vertical-align: top;\n",
       "    }\n",
       "\n",
       "    .dataframe thead th {\n",
       "        text-align: right;\n",
       "    }\n",
       "</style>\n",
       "<table border=\"1\" class=\"dataframe\">\n",
       "  <thead>\n",
       "    <tr style=\"text-align: right;\">\n",
       "      <th></th>\n",
       "      <th>Adj Close</th>\n",
       "      <th>Close</th>\n",
       "      <th>Div</th>\n",
       "      <th>Factor</th>\n",
       "      <th>High</th>\n",
       "      <th>Low</th>\n",
       "      <th>Open</th>\n",
       "      <th>Volume</th>\n",
       "    </tr>\n",
       "    <tr>\n",
       "      <th>Dt</th>\n",
       "      <th></th>\n",
       "      <th></th>\n",
       "      <th></th>\n",
       "      <th></th>\n",
       "      <th></th>\n",
       "      <th></th>\n",
       "      <th></th>\n",
       "      <th></th>\n",
       "    </tr>\n",
       "  </thead>\n",
       "  <tbody>\n",
       "    <tr>\n",
       "      <th>2000-01-03</th>\n",
       "      <td>100.4705</td>\n",
       "      <td>145.438</td>\n",
       "      <td>0.0</td>\n",
       "      <td>1.0</td>\n",
       "      <td>148.2472</td>\n",
       "      <td>143.875</td>\n",
       "      <td>148.250</td>\n",
       "      <td>8164300.0</td>\n",
       "    </tr>\n",
       "    <tr>\n",
       "      <th>2000-01-04</th>\n",
       "      <td>96.5415</td>\n",
       "      <td>139.750</td>\n",
       "      <td>0.0</td>\n",
       "      <td>1.0</td>\n",
       "      <td>144.0630</td>\n",
       "      <td>139.641</td>\n",
       "      <td>143.531</td>\n",
       "      <td>8089800.0</td>\n",
       "    </tr>\n",
       "    <tr>\n",
       "      <th>2000-01-05</th>\n",
       "      <td>96.7142</td>\n",
       "      <td>140.000</td>\n",
       "      <td>0.0</td>\n",
       "      <td>1.0</td>\n",
       "      <td>141.5284</td>\n",
       "      <td>137.250</td>\n",
       "      <td>139.938</td>\n",
       "      <td>12177900.0</td>\n",
       "    </tr>\n",
       "    <tr>\n",
       "      <th>2000-01-06</th>\n",
       "      <td>95.1599</td>\n",
       "      <td>137.750</td>\n",
       "      <td>0.0</td>\n",
       "      <td>1.0</td>\n",
       "      <td>141.5000</td>\n",
       "      <td>137.750</td>\n",
       "      <td>139.625</td>\n",
       "      <td>6227200.0</td>\n",
       "    </tr>\n",
       "    <tr>\n",
       "      <th>2000-01-07</th>\n",
       "      <td>100.6864</td>\n",
       "      <td>145.750</td>\n",
       "      <td>0.0</td>\n",
       "      <td>1.0</td>\n",
       "      <td>145.7500</td>\n",
       "      <td>140.063</td>\n",
       "      <td>140.313</td>\n",
       "      <td>8066500.0</td>\n",
       "    </tr>\n",
       "    <tr>\n",
       "      <th>...</th>\n",
       "      <td>...</td>\n",
       "      <td>...</td>\n",
       "      <td>...</td>\n",
       "      <td>...</td>\n",
       "      <td>...</td>\n",
       "      <td>...</td>\n",
       "      <td>...</td>\n",
       "      <td>...</td>\n",
       "    </tr>\n",
       "    <tr>\n",
       "      <th>2016-12-23</th>\n",
       "      <td>214.2890</td>\n",
       "      <td>225.710</td>\n",
       "      <td>0.0</td>\n",
       "      <td>1.0</td>\n",
       "      <td>225.7200</td>\n",
       "      <td>225.210</td>\n",
       "      <td>225.430</td>\n",
       "      <td>36697800.0</td>\n",
       "    </tr>\n",
       "    <tr>\n",
       "      <th>2016-12-27</th>\n",
       "      <td>214.8206</td>\n",
       "      <td>226.270</td>\n",
       "      <td>0.0</td>\n",
       "      <td>1.0</td>\n",
       "      <td>226.7300</td>\n",
       "      <td>226.000</td>\n",
       "      <td>226.020</td>\n",
       "      <td>42672500.0</td>\n",
       "    </tr>\n",
       "    <tr>\n",
       "      <th>2016-12-28</th>\n",
       "      <td>213.0452</td>\n",
       "      <td>224.400</td>\n",
       "      <td>0.0</td>\n",
       "      <td>1.0</td>\n",
       "      <td>226.5900</td>\n",
       "      <td>224.270</td>\n",
       "      <td>226.570</td>\n",
       "      <td>64095000.0</td>\n",
       "    </tr>\n",
       "    <tr>\n",
       "      <th>2016-12-29</th>\n",
       "      <td>212.9978</td>\n",
       "      <td>224.350</td>\n",
       "      <td>0.0</td>\n",
       "      <td>1.0</td>\n",
       "      <td>224.8900</td>\n",
       "      <td>223.840</td>\n",
       "      <td>224.480</td>\n",
       "      <td>48696100.0</td>\n",
       "    </tr>\n",
       "    <tr>\n",
       "      <th>2016-12-30</th>\n",
       "      <td>212.2193</td>\n",
       "      <td>223.530</td>\n",
       "      <td>0.0</td>\n",
       "      <td>1.0</td>\n",
       "      <td>224.8300</td>\n",
       "      <td>222.730</td>\n",
       "      <td>224.730</td>\n",
       "      <td>108998300.0</td>\n",
       "    </tr>\n",
       "  </tbody>\n",
       "</table>\n",
       "<p>4277 rows × 8 columns</p>\n",
       "</div>"
      ],
      "text/plain": [
       "            Adj Close    Close  Div  Factor      High      Low     Open  \\\n",
       "Dt                                                                        \n",
       "2000-01-03   100.4705  145.438  0.0     1.0  148.2472  143.875  148.250   \n",
       "2000-01-04    96.5415  139.750  0.0     1.0  144.0630  139.641  143.531   \n",
       "2000-01-05    96.7142  140.000  0.0     1.0  141.5284  137.250  139.938   \n",
       "2000-01-06    95.1599  137.750  0.0     1.0  141.5000  137.750  139.625   \n",
       "2000-01-07   100.6864  145.750  0.0     1.0  145.7500  140.063  140.313   \n",
       "...               ...      ...  ...     ...       ...      ...      ...   \n",
       "2016-12-23   214.2890  225.710  0.0     1.0  225.7200  225.210  225.430   \n",
       "2016-12-27   214.8206  226.270  0.0     1.0  226.7300  226.000  226.020   \n",
       "2016-12-28   213.0452  224.400  0.0     1.0  226.5900  224.270  226.570   \n",
       "2016-12-29   212.9978  224.350  0.0     1.0  224.8900  223.840  224.480   \n",
       "2016-12-30   212.2193  223.530  0.0     1.0  224.8300  222.730  224.730   \n",
       "\n",
       "                 Volume  \n",
       "Dt                       \n",
       "2000-01-03    8164300.0  \n",
       "2000-01-04    8089800.0  \n",
       "2000-01-05   12177900.0  \n",
       "2000-01-06    6227200.0  \n",
       "2000-01-07    8066500.0  \n",
       "...                 ...  \n",
       "2016-12-23   36697800.0  \n",
       "2016-12-27   42672500.0  \n",
       "2016-12-28   64095000.0  \n",
       "2016-12-29   48696100.0  \n",
       "2016-12-30  108998300.0  \n",
       "\n",
       "[4277 rows x 8 columns]"
      ]
     },
     "execution_count": 38,
     "metadata": {},
     "output_type": "execute_result"
    }
   ],
   "source": [
    "SPY = pd.read_csv('Data/train/SPY.csv', index_col=\"Dt\")\n",
    "SPY"
   ]
  },
  {
   "cell_type": "markdown",
   "metadata": {},
   "source": [
    "Import SPY data, and add SPY's close price into data."
   ]
  },
  {
   "cell_type": "code",
   "execution_count": 39,
   "metadata": {},
   "outputs": [
    {
     "data": {
      "text/html": [
       "<div>\n",
       "<style scoped>\n",
       "    .dataframe tbody tr th:only-of-type {\n",
       "        vertical-align: middle;\n",
       "    }\n",
       "\n",
       "    .dataframe tbody tr th {\n",
       "        vertical-align: top;\n",
       "    }\n",
       "\n",
       "    .dataframe thead th {\n",
       "        text-align: right;\n",
       "    }\n",
       "</style>\n",
       "<table border=\"1\" class=\"dataframe\">\n",
       "  <thead>\n",
       "    <tr style=\"text-align: right;\">\n",
       "      <th></th>\n",
       "      <th>Adj Close</th>\n",
       "      <th>Div</th>\n",
       "      <th>Factor</th>\n",
       "      <th>High</th>\n",
       "      <th>Low</th>\n",
       "      <th>Open</th>\n",
       "      <th>Volume</th>\n",
       "      <th>SPY</th>\n",
       "      <th>Close</th>\n",
       "    </tr>\n",
       "    <tr>\n",
       "      <th>Dt</th>\n",
       "      <th></th>\n",
       "      <th></th>\n",
       "      <th></th>\n",
       "      <th></th>\n",
       "      <th></th>\n",
       "      <th></th>\n",
       "      <th></th>\n",
       "      <th></th>\n",
       "      <th></th>\n",
       "    </tr>\n",
       "  </thead>\n",
       "  <tbody>\n",
       "    <tr>\n",
       "      <th>2000-01-03</th>\n",
       "      <td>3.4785</td>\n",
       "      <td>0.0</td>\n",
       "      <td>1.0</td>\n",
       "      <td>112.5000</td>\n",
       "      <td>101.688</td>\n",
       "      <td>104.8750</td>\n",
       "      <td>133949200.0</td>\n",
       "      <td>145.438</td>\n",
       "      <td>111.938</td>\n",
       "    </tr>\n",
       "    <tr>\n",
       "      <th>2000-01-04</th>\n",
       "      <td>3.1852</td>\n",
       "      <td>0.0</td>\n",
       "      <td>1.0</td>\n",
       "      <td>110.6250</td>\n",
       "      <td>101.188</td>\n",
       "      <td>108.2500</td>\n",
       "      <td>128094400.0</td>\n",
       "      <td>139.750</td>\n",
       "      <td>102.500</td>\n",
       "    </tr>\n",
       "    <tr>\n",
       "      <th>2000-01-05</th>\n",
       "      <td>3.2318</td>\n",
       "      <td>0.0</td>\n",
       "      <td>1.0</td>\n",
       "      <td>110.5630</td>\n",
       "      <td>103.000</td>\n",
       "      <td>103.7500</td>\n",
       "      <td>194580400.0</td>\n",
       "      <td>140.000</td>\n",
       "      <td>104.000</td>\n",
       "    </tr>\n",
       "    <tr>\n",
       "      <th>2000-01-06</th>\n",
       "      <td>2.9521</td>\n",
       "      <td>0.0</td>\n",
       "      <td>1.0</td>\n",
       "      <td>107.0000</td>\n",
       "      <td>95.000</td>\n",
       "      <td>106.1183</td>\n",
       "      <td>191993200.0</td>\n",
       "      <td>137.750</td>\n",
       "      <td>95.000</td>\n",
       "    </tr>\n",
       "    <tr>\n",
       "      <th>2000-01-07</th>\n",
       "      <td>3.0920</td>\n",
       "      <td>0.0</td>\n",
       "      <td>1.0</td>\n",
       "      <td>101.0000</td>\n",
       "      <td>95.500</td>\n",
       "      <td>96.5000</td>\n",
       "      <td>115183600.0</td>\n",
       "      <td>145.750</td>\n",
       "      <td>99.500</td>\n",
       "    </tr>\n",
       "    <tr>\n",
       "      <th>...</th>\n",
       "      <td>...</td>\n",
       "      <td>...</td>\n",
       "      <td>...</td>\n",
       "      <td>...</td>\n",
       "      <td>...</td>\n",
       "      <td>...</td>\n",
       "      <td>...</td>\n",
       "      <td>...</td>\n",
       "      <td>...</td>\n",
       "    </tr>\n",
       "    <tr>\n",
       "      <th>2016-12-23</th>\n",
       "      <td>111.3073</td>\n",
       "      <td>0.0</td>\n",
       "      <td>1.0</td>\n",
       "      <td>116.5255</td>\n",
       "      <td>115.590</td>\n",
       "      <td>115.5900</td>\n",
       "      <td>14249500.0</td>\n",
       "      <td>225.710</td>\n",
       "      <td>116.520</td>\n",
       "    </tr>\n",
       "    <tr>\n",
       "      <th>2016-12-27</th>\n",
       "      <td>112.0142</td>\n",
       "      <td>0.0</td>\n",
       "      <td>1.0</td>\n",
       "      <td>117.8000</td>\n",
       "      <td>116.490</td>\n",
       "      <td>116.5200</td>\n",
       "      <td>18296900.0</td>\n",
       "      <td>226.270</td>\n",
       "      <td>117.260</td>\n",
       "    </tr>\n",
       "    <tr>\n",
       "      <th>2016-12-28</th>\n",
       "      <td>111.5366</td>\n",
       "      <td>0.0</td>\n",
       "      <td>1.0</td>\n",
       "      <td>118.0170</td>\n",
       "      <td>116.200</td>\n",
       "      <td>117.5200</td>\n",
       "      <td>20905900.0</td>\n",
       "      <td>224.400</td>\n",
       "      <td>116.760</td>\n",
       "    </tr>\n",
       "    <tr>\n",
       "      <th>2016-12-29</th>\n",
       "      <td>111.5079</td>\n",
       "      <td>0.0</td>\n",
       "      <td>1.0</td>\n",
       "      <td>117.1094</td>\n",
       "      <td>116.400</td>\n",
       "      <td>116.4500</td>\n",
       "      <td>15039500.0</td>\n",
       "      <td>224.350</td>\n",
       "      <td>116.730</td>\n",
       "    </tr>\n",
       "    <tr>\n",
       "      <th>2016-12-30</th>\n",
       "      <td>110.6386</td>\n",
       "      <td>0.0</td>\n",
       "      <td>1.0</td>\n",
       "      <td>117.2000</td>\n",
       "      <td>115.430</td>\n",
       "      <td>116.6577</td>\n",
       "      <td>30586300.0</td>\n",
       "      <td>223.530</td>\n",
       "      <td>115.820</td>\n",
       "    </tr>\n",
       "  </tbody>\n",
       "</table>\n",
       "<p>4277 rows × 9 columns</p>\n",
       "</div>"
      ],
      "text/plain": [
       "            Adj Close  Div  Factor      High      Low      Open       Volume  \\\n",
       "Dt                                                                             \n",
       "2000-01-03     3.4785  0.0     1.0  112.5000  101.688  104.8750  133949200.0   \n",
       "2000-01-04     3.1852  0.0     1.0  110.6250  101.188  108.2500  128094400.0   \n",
       "2000-01-05     3.2318  0.0     1.0  110.5630  103.000  103.7500  194580400.0   \n",
       "2000-01-06     2.9521  0.0     1.0  107.0000   95.000  106.1183  191993200.0   \n",
       "2000-01-07     3.0920  0.0     1.0  101.0000   95.500   96.5000  115183600.0   \n",
       "...               ...  ...     ...       ...      ...       ...          ...   \n",
       "2016-12-23   111.3073  0.0     1.0  116.5255  115.590  115.5900   14249500.0   \n",
       "2016-12-27   112.0142  0.0     1.0  117.8000  116.490  116.5200   18296900.0   \n",
       "2016-12-28   111.5366  0.0     1.0  118.0170  116.200  117.5200   20905900.0   \n",
       "2016-12-29   111.5079  0.0     1.0  117.1094  116.400  116.4500   15039500.0   \n",
       "2016-12-30   110.6386  0.0     1.0  117.2000  115.430  116.6577   30586300.0   \n",
       "\n",
       "                SPY    Close  \n",
       "Dt                            \n",
       "2000-01-03  145.438  111.938  \n",
       "2000-01-04  139.750  102.500  \n",
       "2000-01-05  140.000  104.000  \n",
       "2000-01-06  137.750   95.000  \n",
       "2000-01-07  145.750   99.500  \n",
       "...             ...      ...  \n",
       "2016-12-23  225.710  116.520  \n",
       "2016-12-27  226.270  117.260  \n",
       "2016-12-28  224.400  116.760  \n",
       "2016-12-29  224.350  116.730  \n",
       "2016-12-30  223.530  115.820  \n",
       "\n",
       "[4277 rows x 9 columns]"
      ]
     },
     "execution_count": 39,
     "metadata": {},
     "output_type": "execute_result"
    }
   ],
   "source": [
    "df[\"SPY\"] = SPY[\"Close\"]\n",
    "df = df.reindex(columns=['Adj Close', 'Div', 'Factor', 'High', 'Low', 'Open', 'Volume','SPY','Close'])\n",
    "df"
   ]
  },
  {
   "cell_type": "markdown",
   "metadata": {},
   "source": [
    "Check if there are null value in SPY. Check if there are extreme outlier in SPY"
   ]
  },
  {
   "cell_type": "code",
   "execution_count": 40,
   "metadata": {},
   "outputs": [
    {
     "name": "stdout",
     "output_type": "stream",
     "text": [
      "<class 'pandas.core.frame.DataFrame'>\n",
      "Index: 4277 entries, 2000-01-03 to 2016-12-30\n",
      "Data columns (total 9 columns):\n",
      " #   Column     Non-Null Count  Dtype  \n",
      "---  ------     --------------  -----  \n",
      " 0   Adj Close  4277 non-null   float64\n",
      " 1   Div        4277 non-null   float64\n",
      " 2   Factor     4277 non-null   float64\n",
      " 3   High       4277 non-null   float64\n",
      " 4   Low        4277 non-null   float64\n",
      " 5   Open       4277 non-null   float64\n",
      " 6   Volume     4277 non-null   float64\n",
      " 7   SPY        4277 non-null   float64\n",
      " 8   Close      4277 non-null   float64\n",
      "dtypes: float64(9)\n",
      "memory usage: 334.1+ KB\n"
     ]
    }
   ],
   "source": [
    "df.info()"
   ]
  },
  {
   "cell_type": "code",
   "execution_count": 41,
   "metadata": {},
   "outputs": [
    {
     "data": {
      "text/html": [
       "<div>\n",
       "<style scoped>\n",
       "    .dataframe tbody tr th:only-of-type {\n",
       "        vertical-align: middle;\n",
       "    }\n",
       "\n",
       "    .dataframe tbody tr th {\n",
       "        vertical-align: top;\n",
       "    }\n",
       "\n",
       "    .dataframe thead th {\n",
       "        text-align: right;\n",
       "    }\n",
       "</style>\n",
       "<table border=\"1\" class=\"dataframe\">\n",
       "  <thead>\n",
       "    <tr style=\"text-align: right;\">\n",
       "      <th></th>\n",
       "      <th>Adj Close</th>\n",
       "      <th>Div</th>\n",
       "      <th>Factor</th>\n",
       "      <th>High</th>\n",
       "      <th>Low</th>\n",
       "      <th>Open</th>\n",
       "      <th>Volume</th>\n",
       "      <th>SPY</th>\n",
       "      <th>Close</th>\n",
       "    </tr>\n",
       "  </thead>\n",
       "  <tbody>\n",
       "    <tr>\n",
       "      <th>count</th>\n",
       "      <td>4277.000000</td>\n",
       "      <td>4277.000000</td>\n",
       "      <td>4277.000000</td>\n",
       "      <td>4277.000000</td>\n",
       "      <td>4277.000000</td>\n",
       "      <td>4277.000000</td>\n",
       "      <td>4.277000e+03</td>\n",
       "      <td>4277.000000</td>\n",
       "      <td>4277.000000</td>\n",
       "    </tr>\n",
       "    <tr>\n",
       "      <th>mean</th>\n",
       "      <td>34.065846</td>\n",
       "      <td>0.001999</td>\n",
       "      <td>1.001870</td>\n",
       "      <td>172.424040</td>\n",
       "      <td>168.407568</td>\n",
       "      <td>170.528689</td>\n",
       "      <td>1.248138e+08</td>\n",
       "      <td>137.798293</td>\n",
       "      <td>170.450354</td>\n",
       "    </tr>\n",
       "    <tr>\n",
       "      <th>std</th>\n",
       "      <td>36.698987</td>\n",
       "      <td>0.031011</td>\n",
       "      <td>0.094251</td>\n",
       "      <td>174.989551</td>\n",
       "      <td>171.934671</td>\n",
       "      <td>173.604272</td>\n",
       "      <td>7.997319e+07</td>\n",
       "      <td>36.072168</td>\n",
       "      <td>173.484604</td>\n",
       "    </tr>\n",
       "    <tr>\n",
       "      <th>min</th>\n",
       "      <td>0.815400</td>\n",
       "      <td>0.000000</td>\n",
       "      <td>1.000000</td>\n",
       "      <td>13.190000</td>\n",
       "      <td>12.720000</td>\n",
       "      <td>12.990000</td>\n",
       "      <td>9.835000e+06</td>\n",
       "      <td>68.110000</td>\n",
       "      <td>13.120000</td>\n",
       "    </tr>\n",
       "    <tr>\n",
       "      <th>25%</th>\n",
       "      <td>3.115300</td>\n",
       "      <td>0.000000</td>\n",
       "      <td>1.000000</td>\n",
       "      <td>40.260000</td>\n",
       "      <td>39.030000</td>\n",
       "      <td>39.530000</td>\n",
       "      <td>6.363350e+07</td>\n",
       "      <td>112.970000</td>\n",
       "      <td>39.759000</td>\n",
       "    </tr>\n",
       "    <tr>\n",
       "      <th>50%</th>\n",
       "      <td>16.948300</td>\n",
       "      <td>0.000000</td>\n",
       "      <td>1.000000</td>\n",
       "      <td>108.360000</td>\n",
       "      <td>105.200000</td>\n",
       "      <td>106.959000</td>\n",
       "      <td>1.016484e+08</td>\n",
       "      <td>129.610000</td>\n",
       "      <td>106.745000</td>\n",
       "    </tr>\n",
       "    <tr>\n",
       "      <th>75%</th>\n",
       "      <td>62.413600</td>\n",
       "      <td>0.000000</td>\n",
       "      <td>1.000000</td>\n",
       "      <td>224.980000</td>\n",
       "      <td>217.890000</td>\n",
       "      <td>220.010000</td>\n",
       "      <td>1.679636e+08</td>\n",
       "      <td>151.050000</td>\n",
       "      <td>222.250000</td>\n",
       "    </tr>\n",
       "    <tr>\n",
       "      <th>max</th>\n",
       "      <td>122.771400</td>\n",
       "      <td>0.570000</td>\n",
       "      <td>7.000000</td>\n",
       "      <td>705.070000</td>\n",
       "      <td>699.570000</td>\n",
       "      <td>702.410000</td>\n",
       "      <td>3.244588e+08</td>\n",
       "      <td>227.760000</td>\n",
       "      <td>702.100000</td>\n",
       "    </tr>\n",
       "  </tbody>\n",
       "</table>\n",
       "</div>"
      ],
      "text/plain": [
       "         Adj Close          Div       Factor         High          Low  \\\n",
       "count  4277.000000  4277.000000  4277.000000  4277.000000  4277.000000   \n",
       "mean     34.065846     0.001999     1.001870   172.424040   168.407568   \n",
       "std      36.698987     0.031011     0.094251   174.989551   171.934671   \n",
       "min       0.815400     0.000000     1.000000    13.190000    12.720000   \n",
       "25%       3.115300     0.000000     1.000000    40.260000    39.030000   \n",
       "50%      16.948300     0.000000     1.000000   108.360000   105.200000   \n",
       "75%      62.413600     0.000000     1.000000   224.980000   217.890000   \n",
       "max     122.771400     0.570000     7.000000   705.070000   699.570000   \n",
       "\n",
       "              Open        Volume          SPY        Close  \n",
       "count  4277.000000  4.277000e+03  4277.000000  4277.000000  \n",
       "mean    170.528689  1.248138e+08   137.798293   170.450354  \n",
       "std     173.604272  7.997319e+07    36.072168   173.484604  \n",
       "min      12.990000  9.835000e+06    68.110000    13.120000  \n",
       "25%      39.530000  6.363350e+07   112.970000    39.759000  \n",
       "50%     106.959000  1.016484e+08   129.610000   106.745000  \n",
       "75%     220.010000  1.679636e+08   151.050000   222.250000  \n",
       "max     702.410000  3.244588e+08   227.760000   702.100000  "
      ]
     },
     "execution_count": 41,
     "metadata": {},
     "output_type": "execute_result"
    }
   ],
   "source": [
    "df.describe()"
   ]
  },
  {
   "cell_type": "code",
   "execution_count": 42,
   "metadata": {
    "scrolled": true
   },
   "outputs": [
    {
     "data": {
      "text/plain": [
       "<AxesSubplot:>"
      ]
     },
     "execution_count": 42,
     "metadata": {},
     "output_type": "execute_result"
    },
    {
     "data": {
      "image/png": "[encoded data removed]",
      "text/plain": [
       "<Figure size 432x288 with 1 Axes>"
      ]
     },
     "metadata": {
      "needs_background": "light"
     },
     "output_type": "display_data"
    }
   ],
   "source": [
    "df.boxplot(column = \"SPY\")"
   ]
  },
  {
   "cell_type": "markdown",
   "metadata": {},
   "source": [
    "Create train and test."
   ]
  },
  {
   "cell_type": "code",
   "execution_count": 43,
   "metadata": {},
   "outputs": [
    {
     "name": "stdout",
     "output_type": "stream",
     "text": [
      "X_train (3405, 20, 9)\n",
      "y_train (3405,)\n",
      "X_test (851, 20, 9)\n",
      "y_test (851,)\n"
     ]
    }
   ],
   "source": [
    "window = 20\n",
    "X_train, y_train, X_test, y_test = preprocess_data(df[::-1], window)\n",
    "print(\"X_train\", X_train.shape)\n",
    "print(\"y_train\", y_train.shape)\n",
    "print(\"X_test\", X_test.shape)\n",
    "print(\"y_test\", y_test.shape)"
   ]
  },
  {
   "cell_type": "markdown",
   "metadata": {},
   "source": [
    "Use the best model I have, LSTM to test what SPY can do to my model."
   ]
  },
  {
   "cell_type": "code",
   "execution_count": 44,
   "metadata": {},
   "outputs": [
    {
     "data": {
      "text/plain": [
       "<tensorflow.python.keras.callbacks.History at 0x1f549711940>"
      ]
     },
     "execution_count": 44,
     "metadata": {},
     "output_type": "execute_result"
    }
   ],
   "source": [
    "model3 = build_model3([X_train.shape[2], window, 100, 1])\n",
    "model3.fit(X_train,y_train,batch_size=512,epochs=50,validation_split=0.1,verbose=0)"
   ]
  },
  {
   "cell_type": "markdown",
   "metadata": {},
   "source": [
    "The MSE and RMSE score are little lower than the original data, but still okay."
   ]
  },
  {
   "cell_type": "code",
   "execution_count": 45,
   "metadata": {},
   "outputs": [
    {
     "name": "stdout",
     "output_type": "stream",
     "text": [
      "Train Score: 0.01 MSE (0.10 RMSE)\n",
      "Test Score: 0.03 MSE (0.17 RMSE)\n"
     ]
    }
   ],
   "source": [
    "trainScore = model3.evaluate(X_train, y_train, verbose=0)\n",
    "print('Train Score: %.2f MSE (%.2f RMSE)' % (trainScore[0], math.sqrt(trainScore[0])))\n",
    "\n",
    "testScore = model3.evaluate(X_test, y_test, verbose=0)\n",
    "print('Test Score: %.2f MSE (%.2f RMSE)' % (testScore[0], math.sqrt(testScore[0])))"
   ]
  },
  {
   "cell_type": "markdown",
   "metadata": {},
   "source": [
    "This graph is similar to model3's graph which it did a bad job to predict first half the data, and did well on the second half the data."
   ]
  },
  {
   "cell_type": "code",
   "execution_count": 46,
   "metadata": {},
   "outputs": [
    {
     "data": {
      "image/png": "[encoded data removed]",
      "text/plain": [
       "<Figure size 432x288 with 1 Axes>"
      ]
     },
     "metadata": {
      "needs_background": "light"
     },
     "output_type": "display_data"
    }
   ],
   "source": [
    "%matplotlib inline \n",
    "pred = model3.predict(X_test)\n",
    "plt.plot(pred, color='red', label='Prediction')\n",
    "plt.plot(y_test, color='blue', label='Actual')\n",
    "plt.legend(loc='upper left')\n",
    "plt.show()"
   ]
  },
  {
   "cell_type": "markdown",
   "metadata": {},
   "source": [
    "Try model4."
   ]
  },
  {
   "cell_type": "code",
   "execution_count": 47,
   "metadata": {},
   "outputs": [
    {
     "data": {
      "text/plain": [
       "<tensorflow.python.keras.callbacks.History at 0x1f54deaa970>"
      ]
     },
     "execution_count": 47,
     "metadata": {},
     "output_type": "execute_result"
    }
   ],
   "source": [
    "model4 = build_model4([X_train.shape[2], window, 100, 1])\n",
    "model4.fit(X_train,y_train,batch_size=512,epochs=50,validation_split=0.1,verbose=0)"
   ]
  },
  {
   "cell_type": "code",
   "execution_count": 48,
   "metadata": {},
   "outputs": [
    {
     "name": "stdout",
     "output_type": "stream",
     "text": [
      "Train Score: 0.00 MSE (0.05 RMSE)\n",
      "Test Score: 0.00 MSE (0.04 RMSE)\n"
     ]
    }
   ],
   "source": [
    "trainScore = model4.evaluate(X_train, y_train, verbose=0)\n",
    "print('Train Score: %.2f MSE (%.2f RMSE)' % (trainScore[0], math.sqrt(trainScore[0])))\n",
    "\n",
    "testScore = model4.evaluate(X_test, y_test, verbose=0)\n",
    "print('Test Score: %.2f MSE (%.2f RMSE)' % (testScore[0], math.sqrt(testScore[0])))"
   ]
  },
  {
   "cell_type": "markdown",
   "metadata": {},
   "source": [
    "The graph shows that with SPY the prediction is better on the first half of the data, and a little worse on the second half data. Over all, I think SPY may have same trend as APL in the first period of time, but in the latest year, SPY may have more difference than APL since the graph shows that. So I decide to not use SPY in my final model."
   ]
  },
  {
   "cell_type": "code",
   "execution_count": 49,
   "metadata": {},
   "outputs": [
    {
     "data": {
      "image/png": "[encoded data removed]",
      "text/plain": [
       "<Figure size 432x288 with 1 Axes>"
      ]
     },
     "metadata": {
      "needs_background": "light"
     },
     "output_type": "display_data"
    }
   ],
   "source": [
    "%matplotlib inline \n",
    "pred = model4.predict(X_test)\n",
    "plt.plot(pred, color='red', label='Prediction')\n",
    "plt.plot(y_test, color='blue', label='Actual')\n",
    "plt.legend(loc='upper left')\n",
    "plt.show()"
   ]
  },
  {
   "cell_type": "markdown",
   "metadata": {},
   "source": [
    "My final model would be model4 which is LSTM using adam as optimizer."
   ]
  },
  {
   "cell_type": "markdown",
   "metadata": {},
   "source": [
    "# Submission requirements\n",
    "\n",
    "The guidelines will be similar to the Midterm\n",
    "- you will write a procedure that takes raw data and produces predictions\n",
    "\n",
    "You will submit a *single* model for evaluation.\n",
    "\n",
    "**Demonstrate that all cells in your notebook work**\n",
    "\n",
    "The final cell in your notebook should print the message \"Done\"\n",
    "- `print(\"Done\")`\n",
    "- If we run your notebook and this last cell does not execute your submission will be inadequate\n",
    "\n",
    "## Testing\n",
    "\n",
    "*You must perform out of sample testing*.\n",
    "\n",
    "If you want to perform cross-validation in training, that is fine, but you\n",
    "must *also* test out of sample to show that you are not over-fitting.\n",
    "\n",
    "It is up to you to create the out of sample data that you feel best evaluates your model.\n",
    "\n",
    "We will create holdout data (that we will not show you) for grading.\n",
    "\n",
    "The procedure you write to make predictions should be able to work on the unseen holdout data\n",
    "(similar to how it should work for your test set but the holdout set has *no targets*)\n",
    "\n",
    "    "
   ]
  },
  {
   "cell_type": "markdown",
   "metadata": {},
   "source": [
    "# The data\n",
    "\n",
    "Data will be provided to you \n",
    "- as multiple files in a directory which we refer to as a *data directory*\n",
    "\n",
    "The reason for this is that the different files may convey different information.\n",
    "\n",
    "You will be responsible for deciding\n",
    "- which files to use\n",
    "- which fields within the files to use\n",
    "\n",
    "We will give you a data directory for training.\n",
    "\n",
    "# Submission guidelines\n",
    "\n",
    "Here are the basics, a code template that you must complete is in the following cells\n",
    "- you will be required to store  your model in a file\n",
    "- you will be required to write a procedure `MyModel` that takes two arguments\n",
    "    - `test_dir`\n",
    "        - this is a *relative path* to the holdout data directory\n",
    "    - `model_path`\n",
    "        - this is a *relative path* to the file containing your model\n",
    "- the holdout data directory is similar in structure to the training data directory\n",
    "    - but without target labels !  It is your job to predict these.\n",
    "- your procedure must produce predictions given this holdout data directory\n",
    "\n",
    "This means that your procedure must\n",
    "- prepare the files in the holdout data directory similar to the way that they were prepared in the training data directory\n",
    "\n",
    "We will provide you with a sample data directory that will resemble the holdout -- this is so that you\n",
    "may test the procedure you write for submission.\n",
    "\n"
   ]
  },
  {
   "cell_type": "markdown",
   "metadata": {},
   "source": [
    "## Detailed submission guidelines\n",
    "\n",
    "\n",
    "In **addition to your notebook that trains/evaluates your model**, \n",
    "- please also submit an **archive file of the directory** whose name is stored in `model_path`, which \n",
    "contains your trained model.\n",
    "    - use `saveModel` to put your final, trained model in this directory\n",
    "- We will **not** train your model; we will only use the method `MyModel`\n",
    "    - which **you** will implement\n",
    "    - and which uses `loadModel` and the directory whose name is stored in `model_path`\n",
    "    - this will create the model that we will evaluate\n",
    "\n",
    "\n",
    "Here is a code template for you to complete\n",
    "- it will save your model (assuming it is in variable `my_model`)\n",
    "- it provides the specification for procedure `MyModel`, which *you must complete*\n"
   ]
  },
  {
   "cell_type": "code",
   "execution_count": 50,
   "metadata": {},
   "outputs": [
    {
     "name": "stdout",
     "output_type": "stream",
     "text": [
      "Directory .\\final_model already exists, files will be over-written.\n",
      "Model saved in directory .\\final_model; create an archive of this directory and submit with your assignment.\n"
     ]
    }
   ],
   "source": [
    "import os\n",
    "from tensorflow.keras.models import load_model\n",
    "\n",
    "modelName = \"final_model\"\n",
    "model_path = os.path.join(\".\", modelName)\n",
    "\n",
    "def saveModel(model, model_path): \n",
    "    try:\n",
    "        os.makedirs(model_path)\n",
    "    except OSError:\n",
    "        print(\"Directory {dir:s} already exists, files will be over-written.\".format(dir=model_path))\n",
    "        \n",
    "    # Save JSON config to disk\n",
    "    json_config = model.to_json()\n",
    "    with open(os.path.join(model_path, 'config.json'), 'w') as json_file:\n",
    "        json_file.write(json_config)\n",
    "    # Save weights to disk\n",
    "    model.save_weights(os.path.join(model_path, 'weights.h5'))\n",
    "    \n",
    "    print(\"Model saved in directory {dir:s}; create an archive of this directory and submit with your assignment.\".format(dir=model_path))\n",
    "    \n",
    "def loadModel(model_path):\n",
    "    # Reload the model from the 2 files we saved\n",
    "    with open(os.path.join(model_path, 'config.json')) as json_file:\n",
    "        json_config = json_file.read()\n",
    "    model = tf.keras.models.model_from_json(json_config)\n",
    "    model.load_weights(os.path.join(model_path, 'weights.h5'))\n",
    "    \n",
    "    return model\n",
    "\n",
    "def MyModel(test_dir, model_path):\n",
    "    # YOU MAY NOT change model after this statement !\n",
    "    model = loadModel(model_path)\n",
    "    \n",
    "    # It should run model to create an array of predictions; we initialize it to the empty array for convenience\n",
    "    predictions = []\n",
    "    \n",
    "    # We need to match your array of predictions with the examples you are predicting\n",
    "    # The array below (ids) should have a one-to-one correspondence and identify the example your are predicting\n",
    "    # For Bankruptcy: the Id column\n",
    "    # For Stock prediction: the date on which you are making a prediction\n",
    "    ids = []\n",
    "    \n",
    "    # YOUR CODE GOES HERE\n",
    "    df = pd.read_csv('Data/train/AAPL.csv', index_col=\"Dt\")\n",
    "    df = df.reindex(columns=['Adj Close', 'Div', 'Factor', 'High', 'Low', 'Open', 'Volume', 'Close'])\n",
    "    window = 20\n",
    "    X_train, y_train, X_test, y_test = preprocess_data(df[::-1], window)\n",
    "    \n",
    "    model = build_model4([X_train.shape[2], window, 100, 1])\n",
    "    model.fit(X_train,y_train,batch_size=512,epochs=50,validation_split=0.1,verbose=0)\n",
    "    predictions = model.predict(X_test)\n",
    "    ids = df['Close']\n",
    "    \n",
    "    return predictions, ids\n",
    "\n",
    "# Assign to variable my_model the model that is your final model (the one  you will be evaluated on)\n",
    "my_model = model4\n",
    "\n",
    "saveModel(my_model, model_path)"
   ]
  },
  {
   "cell_type": "markdown",
   "metadata": {},
   "source": [
    "## Evaluate your model on the holdout data directory\n",
    "\n",
    "**You must run the following cell** from the directory that contains your model file\n",
    "\n",
    "Here is how we will evaluate your submission\n",
    "- we will create a directory whose only content is\n",
    "    - sub-directory `Data`\n",
    "- we will copy your model file to this directory with the name stored in `model_path`\n",
    "- we will run the cell in your notebook that should be a copy of the one below\n",
    "    - it calls procedure `MyModel` with the arguments given below\n",
    "    - your implementation of `MyModel`\n",
    "        - must successfully load your model file, *given where **we** have place it as described above*\n",
    "        - must successfully return one prediction for each example in the holdout directory *given where **we** have placed the holdout directory*"
   ]
  },
  {
   "cell_type": "code",
   "execution_count": 51,
   "metadata": {},
   "outputs": [],
   "source": [
    "holdout_dir = os.path.join(\".\", \"Data\", \"holdout\")\n",
    "predicts = MyModel(holdout_dir, model_path)"
   ]
  },
  {
   "cell_type": "code",
   "execution_count": 52,
   "metadata": {},
   "outputs": [
    {
     "name": "stdout",
     "output_type": "stream",
     "text": [
      "Done\n"
     ]
    }
   ],
   "source": [
    "print(\"Done\")"
   ]
  },
  {
   "cell_type": "markdown",
   "metadata": {},
   "source": []
  }
 ],
 "metadata": {
  "kernelspec": {
   "display_name": "Python 3",
   "language": "python",
   "name": "python3"
  },
  "language_info": {
   "codemirror_mode": {
    "name": "ipython",
    "version": 3
   },
   "file_extension": ".py",
   "mimetype": "text/x-python",
   "name": "python",
   "nbconvert_exporter": "python",
   "pygments_lexer": "ipython3",
   "version": "3.8.6"
  },
  "toc": {
   "base_numbering": 1,
   "nav_menu": {},
   "number_sections": true,
   "sideBar": true,
   "skip_h1_title": false,
   "title_cell": "Table of Contents",
   "title_sidebar": "Contents",
   "toc_cell": false,
   "toc_position": {},
   "toc_section_display": true,
   "toc_window_display": false
  }
 },
 "nbformat": 4,
 "nbformat_minor": 2
}
